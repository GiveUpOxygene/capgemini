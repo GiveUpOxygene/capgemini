{
 "cells": [
  {
   "cell_type": "markdown",
   "metadata": {},
   "source": [
    "## OPEN CV TUTORIAL : Working with Video in Python\n",
    "OpenCV is an open-source software library for computer vision and machine learning. \n",
    "\n",
    "For Windows : pip install opencv-python  \n",
    "For Mac : brew install opencv "
   ]
  },
  {
   "cell_type": "markdown",
   "metadata": {},
   "source": [
    "Charger une image ou une vidéo"
   ]
  },
  {
   "cell_type": "markdown",
   "metadata": {},
   "source": [
    "Traitement de vidéos :  utiliser des boucles pour parcourir chaque trame de la vidéo, appliquer des opérations de traitement d'images et afficher la vidéo traitée en temps réel."
   ]
  },
  {
   "cell_type": "markdown",
   "metadata": {},
   "source": [
    "Lire vidéo avec Open CV"
   ]
  },
  {
   "cell_type": "code",
   "execution_count": 1,
   "metadata": {},
   "outputs": [],
   "source": [
    "# importing libraries\n",
    "import cv2\n",
    "\n",
    "# Create a VideoCapture object and read from input file\n",
    "cap = cv2.VideoCapture('kss#4#F#drozy#11-1.mp4_11.mp4')\n",
    "\n",
    "# Read until video is completed\n",
    "while(cap.isOpened()):\n",
    "    # Capture frame-by-frame\n",
    "    ret, frame = cap.read() # ret est une valeur de retour booléenne de la capture de l'image, frame représente chaque image qui est retournée\n",
    "    if ret != True: \n",
    "        break\n",
    "\n",
    "    # Display the resulting frame\n",
    "    cv2.imshow('Frame', frame) # affiche l'image dans une fenêtre appelée \"Frame\"\n",
    "\n",
    "    # Press Q on keyboard to exit\n",
    "    if cv2.waitKey(40) & 0xFF == ord('q'): \n",
    "        break  # attend 40 ms, si q est pressé, interrompt la boucle et ferme la fenêtre\n",
    "# Lorsque tout est terminé, libère l'objet de capture vidéo\n",
    "cap.release()\n",
    "# Ferme toutes les fenêtres\n",
    "cv2.destroyAllWindows()\n"
   ]
  },
  {
   "cell_type": "markdown",
   "metadata": {},
   "source": [
    "Obtenir la fréquence d'images (Frame Rate FPS) :fréquence à laquelle les images individuelles (ou frames) sont affichées dans une séquence vidéo = nombre d'images distinctes qui sont affichées chaque seconde"
   ]
  },
  {
   "cell_type": "code",
   "execution_count": 2,
   "metadata": {},
   "outputs": [
    {
     "name": "stdout",
     "output_type": "stream",
     "text": [
      "Frame rate:  25.0\n"
     ]
    }
   ],
   "source": [
    "# Pour obtenir la fréquence d'images (FPS)\n",
    "cap = cv2.VideoCapture('kss#4#F#drozy#11-1.mp4_11.mp4')\n",
    "fps = cap.get(cv2.CAP_PROP_FPS)\n",
    "print(\"Frame rate: \", fps)\n",
    "\n",
    "#ici on a 25 fps , ce qui signifie que 25 images sont affichées par seconde (1 image toutes les 40 ms) car on a mis 40 ms dans le waitKey de la boucle while"
   ]
  },
  {
   "cell_type": "markdown",
   "metadata": {},
   "source": [
    "Accélérer une vidéo"
   ]
  },
  {
   "cell_type": "code",
   "execution_count": 2,
   "metadata": {},
   "outputs": [],
   "source": [
    "import cv2\n",
    "# Pour accélérer la vidéo (par exemple, doubler la vitesse)\n",
    "cap = cv2.VideoCapture('kss#4#F#drozy#11-1.mp4_11.mp4')\n",
    "fps = cap.get(cv2.CAP_PROP_FPS)\n",
    "new_fps = 2 * fps  # multiplie le FPS par 2\n",
    "cap.set(cv2.CAP_PROP_FPS, new_fps)  # définit le nouveau FPS pour la vidéo\n",
    "# Read until video is completed\n",
    "while(cap.isOpened()):\n",
    "    # Capture frame-by-frame\n",
    "    ret, frame = cap.read()\n",
    "    if ret != True:\n",
    "        break\n",
    "\n",
    "    # Display the resulting frame\n",
    "    cv2.imshow('Frame', frame)\n",
    "\n",
    "    # Press Q on keyboard to exit\n",
    "    if cv2.waitKey(40) & 0xFF == ord('q'):\n",
    "        break"
   ]
  },
  {
   "cell_type": "markdown",
   "metadata": {},
   "source": [
    "Ralentir une vidéo"
   ]
  },
  {
   "cell_type": "code",
   "execution_count": 3,
   "metadata": {},
   "outputs": [
    {
     "ename": "KeyboardInterrupt",
     "evalue": "",
     "output_type": "error",
     "traceback": [
      "\u001b[0;31m---------------------------------------------------------------------------\u001b[0m",
      "\u001b[0;31mKeyboardInterrupt\u001b[0m                         Traceback (most recent call last)",
      "\u001b[0;32m/var/folders/wh/czvmpqsn0kzfln6_brp6j8ph0000gn/T/ipykernel_32489/3826356263.py\u001b[0m in \u001b[0;36m<module>\u001b[0;34m\u001b[0m\n\u001b[1;32m     13\u001b[0m \u001b[0;34m\u001b[0m\u001b[0m\n\u001b[1;32m     14\u001b[0m     \u001b[0;31m# Press Q on keyboard to exit\u001b[0m\u001b[0;34m\u001b[0m\u001b[0;34m\u001b[0m\u001b[0m\n\u001b[0;32m---> 15\u001b[0;31m     \u001b[0;32mif\u001b[0m \u001b[0mcv2\u001b[0m\u001b[0;34m.\u001b[0m\u001b[0mwaitKey\u001b[0m\u001b[0;34m(\u001b[0m\u001b[0;36m40\u001b[0m\u001b[0;34m)\u001b[0m \u001b[0;34m&\u001b[0m \u001b[0;36m0xFF\u001b[0m \u001b[0;34m==\u001b[0m \u001b[0mord\u001b[0m\u001b[0;34m(\u001b[0m\u001b[0;34m'q'\u001b[0m\u001b[0;34m)\u001b[0m\u001b[0;34m:\u001b[0m\u001b[0;34m\u001b[0m\u001b[0;34m\u001b[0m\u001b[0m\n\u001b[0m\u001b[1;32m     16\u001b[0m         \u001b[0;32mbreak\u001b[0m\u001b[0;34m\u001b[0m\u001b[0;34m\u001b[0m\u001b[0m\n",
      "\u001b[0;31mKeyboardInterrupt\u001b[0m: "
     ]
    }
   ],
   "source": [
    "# Pour ralentir la vidéo (par exemple, diviser la vitesse par 2)\n",
    "new_fps = fps / 2  # divise le FPS par 2\n",
    "cap.set(cv2.CAP_PROP_FPS, new_fps)  # définit le nouveau FPS pour la vidéo\n",
    "# Read until video is completed\n",
    "while(cap.isOpened()):\n",
    "    # Capture frame-by-frame\n",
    "    ret, frame = cap.read()\n",
    "    if ret != True:\n",
    "        break\n",
    "\n",
    "    # Display the resulting frame\n",
    "    cv2.imshow('Frame', frame)\n",
    "\n",
    "    # Press Q on keyboard to exit\n",
    "    if cv2.waitKey(40) & 0xFF == ord('q'):\n",
    "        break\n"
   ]
  },
  {
   "cell_type": "markdown",
   "metadata": {},
   "source": [
    "Pour obtenir la durée totale de la vidéo"
   ]
  },
  {
   "cell_type": "code",
   "execution_count": 3,
   "metadata": {},
   "outputs": [
    {
     "name": "stdout",
     "output_type": "stream",
     "text": [
      "Video length in seconds:  42.68\n"
     ]
    },
    {
     "ename": "",
     "evalue": "",
     "output_type": "error",
     "traceback": [
      "\u001b[1;31mLe Kernel s’est bloqué lors de l’exécution du code dans la cellule active ou une cellule précédente. Veuillez vérifier le code dans la ou les cellules pour identifier une cause possible de l’échec. Cliquez <a href='https://aka.ms/vscodeJupyterKernelCrash'>ici</a> pour plus d’informations. Pour plus d’informations, consultez Jupyter <a href='command:jupyter.viewOutput'>log</a>."
     ]
    }
   ],
   "source": [
    "# Pour obtenir la durée totale de la vidéo\n",
    "import cv2\n",
    "# Pour accélérer la vidéo (par exemple, doubler la vitesse)\n",
    "cap = cv2.VideoCapture('kss#4#F#drozy#11-1.mp4_11.mp4')\n",
    "fps = cap.get(cv2.CAP_PROP_FPS)\n",
    "frame_count = int(cap.get(cv2.CAP_PROP_FRAME_COUNT))\n",
    "video_length = frame_count / fps\n",
    "print(\"Video length in seconds: \", video_length)\n"
   ]
  }
 ],
 "metadata": {
  "kernelspec": {
   "display_name": "Python 3.11.0 64-bit",
   "language": "python",
   "name": "python3"
  },
  "language_info": {
   "codemirror_mode": {
    "name": "ipython",
    "version": 3
   },
   "file_extension": ".py",
   "mimetype": "text/x-python",
   "name": "python",
   "nbconvert_exporter": "python",
   "pygments_lexer": "ipython3",
   "version": "3.11.0"
  },
  "orig_nbformat": 4,
  "vscode": {
   "interpreter": {
    "hash": "aee8b7b246df8f9039afb4144a1f6fd8d2ca17a180786b69acc140d282b71a49"
   }
  }
 },
 "nbformat": 4,
 "nbformat_minor": 2
}
