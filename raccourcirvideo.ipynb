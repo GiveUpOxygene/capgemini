{
 "cells": [
  {
   "cell_type": "markdown",
   "metadata": {},
   "source": [
    "Raccourcir la vidéo et savoir le nombre ffps  "
   ]
  },
  {
   "cell_type": "code",
   "execution_count": 1,
   "metadata": {},
   "outputs": [
    {
     "name": "stdout",
     "output_type": "stream",
     "text": [
      "Nombre d'images par seconde (fps) : 25.0\n",
      "Vidéo raccourcie exportée avec succès : output_video_opencv.mp4\n"
     ]
    }
   ],
   "source": [
    "import cv2\n",
    "\n",
    "# Chemin de la vidéo d'entrée\n",
    "video_path = \"kss#8-9#F#rldd#28-10.mp4\"\n",
    "\n",
    "# Ouvrir la vidéo\n",
    "cap = cv2.VideoCapture(video_path)\n",
    "\n",
    "# Obtenir le nombre d'images par seconde (fps)\n",
    "fps = cap.get(cv2.CAP_PROP_FPS)\n",
    "print(f\"Nombre d'images par seconde (fps) : {fps}\")\n",
    "\n",
    "# Raccourcir la vidéo à 35 secondes\n",
    "duration = 35\n",
    "frame_count = int(cap.get(cv2.CAP_PROP_FRAME_COUNT))\n",
    "frames_to_keep = int(fps * duration)\n",
    "if frames_to_keep > frame_count:\n",
    "    frames_to_keep = frame_count\n",
    "\n",
    "# Lire les images et écrire dans une nouvelle vidéo\n",
    "fourcc = cv2.VideoWriter_fourcc(*'mp4v')\n",
    "output_path = \"output_video_opencv.mp4\"\n",
    "out = cv2.VideoWriter(output_path, fourcc, fps, (int(cap.get(3)), int(cap.get(4))))\n",
    "\n",
    "for i in range(frames_to_keep):\n",
    "    ret, frame = cap.read()\n",
    "    if not ret:\n",
    "        break\n",
    "    out.write(frame)\n",
    "\n",
    "# Libérer les ressources\n",
    "cap.release()\n",
    "out.release()\n",
    "\n",
    "print(f\"Vidéo raccourcie exportée avec succès : {output_path}\")\n"
   ]
  }
 ],
 "metadata": {
  "kernelspec": {
   "display_name": "Python 3.11.0 64-bit",
   "language": "python",
   "name": "python3"
  },
  "language_info": {
   "codemirror_mode": {
    "name": "ipython",
    "version": 3
   },
   "file_extension": ".py",
   "mimetype": "text/x-python",
   "name": "python",
   "nbconvert_exporter": "python",
   "pygments_lexer": "ipython3",
   "version": "3.11.0"
  },
  "orig_nbformat": 4,
  "vscode": {
   "interpreter": {
    "hash": "aee8b7b246df8f9039afb4144a1f6fd8d2ca17a180786b69acc140d282b71a49"
   }
  }
 },
 "nbformat": 4,
 "nbformat_minor": 2
}
